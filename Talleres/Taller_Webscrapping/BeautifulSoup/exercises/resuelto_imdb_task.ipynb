{
 "cells": [
  {
   "cell_type": "markdown",
   "metadata": {
    "colab_type": "text",
    "id": "JpS8k_tshonl"
   },
   "source": [
    "## Web scrapping de IMDB"
   ]
  },
  {
   "cell_type": "code",
   "execution_count": 1,
   "metadata": {},
   "outputs": [],
   "source": [
    "from bs4 import BeautifulSoup as bs\n",
    "import requests\n",
    "import re\n",
    "import pandas as pd"
   ]
  },
  {
   "cell_type": "code",
   "execution_count": 2,
   "metadata": {},
   "outputs": [],
   "source": [
    "# Download IMDB's Top 250 data\n",
    "url = 'http://www.imdb.com/chart/top'\n",
    "response = requests.get(url)"
   ]
  },
  {
   "cell_type": "code",
   "execution_count": 3,
   "metadata": {},
   "outputs": [
    {
     "name": "stdout",
     "output_type": "stream",
     "text": [
      "<Response [200]>\n"
     ]
    }
   ],
   "source": [
    "print(response)"
   ]
  },
  {
   "cell_type": "code",
   "execution_count": 4,
   "metadata": {},
   "outputs": [],
   "source": [
    "html = response.content"
   ]
  },
  {
   "cell_type": "code",
   "execution_count": 14,
   "metadata": {},
   "outputs": [],
   "source": [
    "# html"
   ]
  },
  {
   "cell_type": "code",
   "execution_count": 5,
   "metadata": {},
   "outputs": [],
   "source": [
    "soup = bs(html,\"lxml\")"
   ]
  },
  {
   "cell_type": "code",
   "execution_count": 157,
   "metadata": {},
   "outputs": [],
   "source": [
    "for m in range(251):\n",
    "    \n",
    "    title = [x.get_text(strip = True).split(\".\")[1].split(\"(\")[0] for x in movies.select(\"td.titleColumn\")]\n",
    "    place = [int(x.get_text(strip = True).split(\".\")[0]) for x in movies.select(\"td.titleColumn\")]\n",
    "    year = [int(x.get_text(strip = True)[-5:-1]) for x in movies.select(\"td.titleColumn\")]\n",
    "    main_cast = [x[\"title\"] for x in movies.select(\"td.titleColumn a\")]\n",
    "    rating = [float(x.get_text()) for x in movies.select(\"td.ratingColumn strong\")]\n",
    "    link = [x[\"href\"] for x in movies.select(\"td.titleColumn a\")]\n",
    "    \n",
    "    data = {\"title\": title,\n",
    "            \"year\": year,\n",
    "            \"place\": place,\n",
    "            \"main_cast\": main_cast,\n",
    "            \"rating\": rating,\n",
    "            \"link\": link\n",
    "            }"
   ]
  },
  {
   "cell_type": "code",
   "execution_count": 153,
   "metadata": {},
   "outputs": [],
   "source": [
    "IMDb = pd.DataFrame(data)\n",
    "web_imdb = \"https://www.imdb.com\"\n",
    "IMDb[\"link\"] = web_imdb + IMDb[\"link\"]"
   ]
  },
  {
   "cell_type": "code",
   "execution_count": 154,
   "metadata": {},
   "outputs": [
    {
     "data": {
      "text/html": [
       "<div>\n",
       "<style scoped>\n",
       "    .dataframe tbody tr th:only-of-type {\n",
       "        vertical-align: middle;\n",
       "    }\n",
       "\n",
       "    .dataframe tbody tr th {\n",
       "        vertical-align: top;\n",
       "    }\n",
       "\n",
       "    .dataframe thead th {\n",
       "        text-align: right;\n",
       "    }\n",
       "</style>\n",
       "<table border=\"1\" class=\"dataframe\">\n",
       "  <thead>\n",
       "    <tr style=\"text-align: right;\">\n",
       "      <th></th>\n",
       "      <th>title</th>\n",
       "      <th>year</th>\n",
       "      <th>place</th>\n",
       "      <th>main_cast</th>\n",
       "      <th>rating</th>\n",
       "      <th>link</th>\n",
       "    </tr>\n",
       "  </thead>\n",
       "  <tbody>\n",
       "    <tr>\n",
       "      <th>0</th>\n",
       "      <td>Cadena perpetua</td>\n",
       "      <td>1994</td>\n",
       "      <td>1</td>\n",
       "      <td>Frank Darabont (dir.), Tim Robbins, Morgan Fre...</td>\n",
       "      <td>9.2</td>\n",
       "      <td>https://www.imdb.com/title/tt0111161/</td>\n",
       "    </tr>\n",
       "    <tr>\n",
       "      <th>1</th>\n",
       "      <td>El padrino</td>\n",
       "      <td>1972</td>\n",
       "      <td>2</td>\n",
       "      <td>Francis Ford Coppola (dir.), Marlon Brando, Al...</td>\n",
       "      <td>9.2</td>\n",
       "      <td>https://www.imdb.com/title/tt0068646/</td>\n",
       "    </tr>\n",
       "    <tr>\n",
       "      <th>2</th>\n",
       "      <td>El caballero oscuro</td>\n",
       "      <td>2008</td>\n",
       "      <td>3</td>\n",
       "      <td>Christopher Nolan (dir.), Christian Bale, Heat...</td>\n",
       "      <td>9.0</td>\n",
       "      <td>https://www.imdb.com/title/tt0468569/</td>\n",
       "    </tr>\n",
       "    <tr>\n",
       "      <th>3</th>\n",
       "      <td>El padrino: Parte II</td>\n",
       "      <td>1974</td>\n",
       "      <td>4</td>\n",
       "      <td>Francis Ford Coppola (dir.), Al Pacino, Robert...</td>\n",
       "      <td>9.0</td>\n",
       "      <td>https://www.imdb.com/title/tt0071562/</td>\n",
       "    </tr>\n",
       "    <tr>\n",
       "      <th>4</th>\n",
       "      <td>12 hombres sin piedad</td>\n",
       "      <td>1957</td>\n",
       "      <td>5</td>\n",
       "      <td>Sidney Lumet (dir.), Henry Fonda, Lee J. Cobb</td>\n",
       "      <td>8.9</td>\n",
       "      <td>https://www.imdb.com/title/tt0050083/</td>\n",
       "    </tr>\n",
       "    <tr>\n",
       "      <th>...</th>\n",
       "      <td>...</td>\n",
       "      <td>...</td>\n",
       "      <td>...</td>\n",
       "      <td>...</td>\n",
       "      <td>...</td>\n",
       "      <td>...</td>\n",
       "    </tr>\n",
       "    <tr>\n",
       "      <th>245</th>\n",
       "      <td>Aladdín</td>\n",
       "      <td>1992</td>\n",
       "      <td>246</td>\n",
       "      <td>Ron Clements (dir.), Scott Weinger, Robin Will...</td>\n",
       "      <td>8.0</td>\n",
       "      <td>https://www.imdb.com/title/tt0103639/</td>\n",
       "    </tr>\n",
       "    <tr>\n",
       "      <th>246</th>\n",
       "      <td>Criadas y señoras</td>\n",
       "      <td>2011</td>\n",
       "      <td>247</td>\n",
       "      <td>Tate Taylor (dir.), Emma Stone, Viola Davis</td>\n",
       "      <td>8.0</td>\n",
       "      <td>https://www.imdb.com/title/tt1454029/</td>\n",
       "    </tr>\n",
       "    <tr>\n",
       "      <th>247</th>\n",
       "      <td>La bella y la bestia</td>\n",
       "      <td>1991</td>\n",
       "      <td>248</td>\n",
       "      <td>Gary Trousdale (dir.), Paige O'Hara, Robby Benson</td>\n",
       "      <td>8.0</td>\n",
       "      <td>https://www.imdb.com/title/tt0101414/</td>\n",
       "    </tr>\n",
       "    <tr>\n",
       "      <th>248</th>\n",
       "      <td>Bailando con lobos</td>\n",
       "      <td>1990</td>\n",
       "      <td>249</td>\n",
       "      <td>Kevin Costner (dir.), Kevin Costner, Mary McDo...</td>\n",
       "      <td>8.0</td>\n",
       "      <td>https://www.imdb.com/title/tt0099348/</td>\n",
       "    </tr>\n",
       "    <tr>\n",
       "      <th>249</th>\n",
       "      <td>Rififi</td>\n",
       "      <td>1955</td>\n",
       "      <td>250</td>\n",
       "      <td>Jules Dassin (dir.), Jean Servais, Carl Möhner</td>\n",
       "      <td>8.0</td>\n",
       "      <td>https://www.imdb.com/title/tt0048021/</td>\n",
       "    </tr>\n",
       "  </tbody>\n",
       "</table>\n",
       "<p>250 rows × 6 columns</p>\n",
       "</div>"
      ],
      "text/plain": [
       "                     title  year  place  \\\n",
       "0          Cadena perpetua  1994      1   \n",
       "1               El padrino  1972      2   \n",
       "2      El caballero oscuro  2008      3   \n",
       "3     El padrino: Parte II  1974      4   \n",
       "4    12 hombres sin piedad  1957      5   \n",
       "..                     ...   ...    ...   \n",
       "245                Aladdín  1992    246   \n",
       "246      Criadas y señoras  2011    247   \n",
       "247   La bella y la bestia  1991    248   \n",
       "248     Bailando con lobos  1990    249   \n",
       "249                 Rififi  1955    250   \n",
       "\n",
       "                                             main_cast  rating  \\\n",
       "0    Frank Darabont (dir.), Tim Robbins, Morgan Fre...     9.2   \n",
       "1    Francis Ford Coppola (dir.), Marlon Brando, Al...     9.2   \n",
       "2    Christopher Nolan (dir.), Christian Bale, Heat...     9.0   \n",
       "3    Francis Ford Coppola (dir.), Al Pacino, Robert...     9.0   \n",
       "4        Sidney Lumet (dir.), Henry Fonda, Lee J. Cobb     8.9   \n",
       "..                                                 ...     ...   \n",
       "245  Ron Clements (dir.), Scott Weinger, Robin Will...     8.0   \n",
       "246        Tate Taylor (dir.), Emma Stone, Viola Davis     8.0   \n",
       "247  Gary Trousdale (dir.), Paige O'Hara, Robby Benson     8.0   \n",
       "248  Kevin Costner (dir.), Kevin Costner, Mary McDo...     8.0   \n",
       "249     Jules Dassin (dir.), Jean Servais, Carl Möhner     8.0   \n",
       "\n",
       "                                      link  \n",
       "0    https://www.imdb.com/title/tt0111161/  \n",
       "1    https://www.imdb.com/title/tt0068646/  \n",
       "2    https://www.imdb.com/title/tt0468569/  \n",
       "3    https://www.imdb.com/title/tt0071562/  \n",
       "4    https://www.imdb.com/title/tt0050083/  \n",
       "..                                     ...  \n",
       "245  https://www.imdb.com/title/tt0103639/  \n",
       "246  https://www.imdb.com/title/tt1454029/  \n",
       "247  https://www.imdb.com/title/tt0101414/  \n",
       "248  https://www.imdb.com/title/tt0099348/  \n",
       "249  https://www.imdb.com/title/tt0048021/  \n",
       "\n",
       "[250 rows x 6 columns]"
      ]
     },
     "execution_count": 154,
     "metadata": {},
     "output_type": "execute_result"
    }
   ],
   "source": [
    "IMDb"
   ]
  },
  {
   "cell_type": "markdown",
   "metadata": {},
   "source": [
    "---\n",
    "---\n",
    "---"
   ]
  },
  {
   "cell_type": "code",
   "execution_count": 100,
   "metadata": {
    "tags": []
   },
   "outputs": [],
   "source": [
    "title = [x.get_text(strip = True).split(\".\")[1].split(\"(\")[0] for x in movies.select(\"td.titleColumn\")]\n",
    "# title"
   ]
  },
  {
   "cell_type": "code",
   "execution_count": 95,
   "metadata": {},
   "outputs": [],
   "source": [
    "place = [int(x.get_text(strip = True).split(\".\")[0]) for x in movies.select(\"td.titleColumn\")]\n",
    "# place"
   ]
  },
  {
   "cell_type": "code",
   "execution_count": 131,
   "metadata": {},
   "outputs": [],
   "source": [
    "year = [int(x.get_text(strip = True)[-5:-1]) for x in movies.select(\"td.titleColumn\")]\n",
    "# year"
   ]
  },
  {
   "cell_type": "code",
   "execution_count": 126,
   "metadata": {},
   "outputs": [
    {
     "data": {
      "text/plain": [
       "'1884'"
      ]
     },
     "execution_count": 126,
     "metadata": {},
     "output_type": "execute_result"
    }
   ],
   "source": [
    "\"15.sdjbfjsbdfj(1884)\"[-5:-1]"
   ]
  },
  {
   "cell_type": "code",
   "execution_count": 97,
   "metadata": {},
   "outputs": [
    {
     "data": {
      "text/plain": [
       "'sdjbfjsbdfj'"
      ]
     },
     "execution_count": 97,
     "metadata": {},
     "output_type": "execute_result"
    }
   ],
   "source": [
    "\"15.sdjbfjsbdfj(18844)\".split(\".\")[1].split(\"(\")[0]"
   ]
  },
  {
   "cell_type": "code",
   "execution_count": 114,
   "metadata": {},
   "outputs": [
    {
     "data": {
      "text/plain": [
       "'18844)'"
      ]
     },
     "execution_count": 114,
     "metadata": {},
     "output_type": "execute_result"
    }
   ],
   "source": [
    "\"15.sdjbfjsbdfj(18844)\".split(\".\")[1].split(\"(\")[1]"
   ]
  },
  {
   "cell_type": "code",
   "execution_count": 71,
   "metadata": {},
   "outputs": [
    {
     "data": {
      "text/plain": [
       "'1.Cadena perpetua(1994)'"
      ]
     },
     "execution_count": 71,
     "metadata": {},
     "output_type": "execute_result"
    }
   ],
   "source": [
    "movies.select(\"td.titleColumn\")[0].get_text(strip = True)"
   ]
  },
  {
   "cell_type": "markdown",
   "metadata": {},
   "source": [
    "---\n",
    "---\n",
    "---"
   ]
  },
  {
   "cell_type": "code",
   "execution_count": 158,
   "metadata": {},
   "outputs": [],
   "source": [
    "# movies.select(\"td.titleColumn a\")"
   ]
  },
  {
   "cell_type": "code",
   "execution_count": 141,
   "metadata": {},
   "outputs": [],
   "source": [
    "main_cast = [x[\"title\"] for x in movies.select(\"td.titleColumn a\")]\n",
    "# main_cast"
   ]
  },
  {
   "cell_type": "markdown",
   "metadata": {},
   "source": [
    "---\n",
    "---"
   ]
  },
  {
   "cell_type": "code",
   "execution_count": 142,
   "metadata": {},
   "outputs": [
    {
     "data": {
      "text/plain": [
       "9.2"
      ]
     },
     "execution_count": 142,
     "metadata": {},
     "output_type": "execute_result"
    }
   ],
   "source": [
    "float(movies.select(\"td.ratingColumn strong\")[0].get_text())"
   ]
  },
  {
   "cell_type": "code",
   "execution_count": 146,
   "metadata": {},
   "outputs": [],
   "source": [
    "rating = [float(x.get_text()) for x in movies.select(\"td.ratingColumn strong\")]\n",
    "# rating"
   ]
  },
  {
   "cell_type": "markdown",
   "metadata": {},
   "source": [
    "---\n",
    "---"
   ]
  },
  {
   "cell_type": "code",
   "execution_count": 52,
   "metadata": {},
   "outputs": [
    {
     "data": {
      "text/plain": [
       "'/title/tt0111161/'"
      ]
     },
     "execution_count": 52,
     "metadata": {},
     "output_type": "execute_result"
    }
   ],
   "source": [
    "movies.select(\"td.titleColumn a\")[0][\"href\"]"
   ]
  },
  {
   "cell_type": "code",
   "execution_count": 155,
   "metadata": {},
   "outputs": [],
   "source": [
    "link = [x[\"href\"] for x in movies.select(\"td.titleColumn a\")]\n",
    "# link"
   ]
  },
  {
   "cell_type": "markdown",
   "metadata": {},
   "source": [
    "---\n",
    "---"
   ]
  },
  {
   "cell_type": "code",
   "execution_count": 179,
   "metadata": {},
   "outputs": [
    {
     "data": {
      "text/plain": [
       "'\\n      39.\\n      Sospechosos habituales\\n(1995)\\n'"
      ]
     },
     "execution_count": 179,
     "metadata": {},
     "output_type": "execute_result"
    }
   ],
   "source": [
    "soup.select(\"tbody.lister-list td.titleColumn\")[38].get_text()"
   ]
  },
  {
   "cell_type": "code",
   "execution_count": 182,
   "metadata": {},
   "outputs": [
    {
     "data": {
      "text/plain": [
       "['', '      39.', '      Sospechosos habituales', '(1995)', '']"
      ]
     },
     "execution_count": 182,
     "metadata": {},
     "output_type": "execute_result"
    }
   ],
   "source": [
    "soup.select(\"tbody.lister-list td.titleColumn\")[38].get_text().split(\"\\n\")"
   ]
  }
 ],
 "metadata": {
  "colab": {
   "name": "1-DataAccess.ipynb",
   "provenance": []
  },
  "interpreter": {
   "hash": "7c77fdb427e7cbc9bc1367dd530fc2b36aacdbbde1ac83c85833b10dfa8b831c"
  },
  "kernelspec": {
   "display_name": "Python 3 (ipykernel)",
   "language": "python",
   "name": "python3"
  },
  "language_info": {
   "codemirror_mode": {
    "name": "ipython",
    "version": 3
   },
   "file_extension": ".py",
   "mimetype": "text/x-python",
   "name": "python",
   "nbconvert_exporter": "python",
   "pygments_lexer": "ipython3",
   "version": "3.9.7"
  }
 },
 "nbformat": 4,
 "nbformat_minor": 4
}
