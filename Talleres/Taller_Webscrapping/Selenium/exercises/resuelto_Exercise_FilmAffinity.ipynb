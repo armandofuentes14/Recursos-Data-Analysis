{
 "cells": [
  {
   "cell_type": "markdown",
   "id": "2be0447a-c80b-4daf-80dc-05edc5d3cc08",
   "metadata": {
    "tags": []
   },
   "source": [
    "# Exercise FilmAffinity 250 top movies"
   ]
  },
  {
   "cell_type": "code",
   "execution_count": 1,
   "id": "a3d69d45-9d81-4485-88a5-6b19c459debe",
   "metadata": {},
   "outputs": [],
   "source": [
    "from bs4 import BeautifulSoup as bs\n",
    "import requests\n",
    "import re\n",
    "import time\n",
    "import pandas as pd\n",
    "from selenium import webdriver\n",
    "from webdriver_manager.chrome import ChromeDriverManager"
   ]
  },
  {
   "cell_type": "code",
   "execution_count": 3,
   "id": "5162dbee-b882-4676-9a8f-e4f15c67dd14",
   "metadata": {},
   "outputs": [
    {
     "name": "stderr",
     "output_type": "stream",
     "text": [
      "\n",
      "\n",
      "====== WebDriver manager ======\n",
      "Current google-chrome version is 106.0.5249\n",
      "Get LATEST chromedriver version for 106.0.5249 google-chrome\n",
      "Trying to download new driver from https://chromedriver.storage.googleapis.com/106.0.5249.61/chromedriver_win32.zip\n",
      "Driver has been saved in cache [C:\\Users\\gabri\\.wdm\\drivers\\chromedriver\\win32\\106.0.5249.61]\n",
      "C:\\Users\\gabri\\AppData\\Local\\Temp/ipykernel_4148/3789665011.py:1: DeprecationWarning: executable_path has been deprecated, please pass in a Service object\n",
      "  driver = webdriver.Chrome(ChromeDriverManager().install())\n"
     ]
    }
   ],
   "source": [
    "driver = webdriver.Chrome(ChromeDriverManager().install())\n",
    "\n",
    "url = \"https://www.filmaffinity.com/es/ranking.php?rn=ranking_fa_movies\"\n",
    "\n",
    "driver.get(url)"
   ]
  },
  {
   "cell_type": "code",
   "execution_count": 4,
   "id": "c5773338-fbbc-434b-a069-63d23411902f",
   "metadata": {},
   "outputs": [],
   "source": [
    "Cookies = driver.find_element(\"xpath\",\"/html/body/div[1]/div/div/div/div[2]/div/button[2]\")"
   ]
  },
  {
   "cell_type": "code",
   "execution_count": 5,
   "id": "acbda287-0488-4f52-bae1-28039e371639",
   "metadata": {},
   "outputs": [],
   "source": [
    "Cookies.click()"
   ]
  },
  {
   "cell_type": "code",
   "execution_count": 6,
   "id": "8cd560f5-c86e-4d4d-9086-b725b2d7f363",
   "metadata": {},
   "outputs": [],
   "source": [
    "for i in range(0,8):\n",
    "    driver.execute_script(\"window.scrollTo(0, document.body.scrollHeight);\")\n",
    "    time.sleep(3)\n",
    "    loadmore = driver.find_element(\"xpath\", \"/html/body/div[5]/table/tbody/tr/td[2]/div[1]/div[4]/div[3]\")\n",
    "    loadmore.click()\n",
    "    time.sleep(3)"
   ]
  },
  {
   "cell_type": "code",
   "execution_count": 6,
   "id": "3573ece0-4f4c-4eef-8860-c7f42d15d963",
   "metadata": {},
   "outputs": [],
   "source": [
    "soup = bs(driver.page_source,\"lxml\")"
   ]
  },
  {
   "cell_type": "code",
   "execution_count": 18,
   "id": "3685b615-54c6-4f5b-a630-1451bbc68425",
   "metadata": {},
   "outputs": [],
   "source": [
    "# soup"
   ]
  },
  {
   "cell_type": "code",
   "execution_count": 19,
   "id": "cbc23332-11ab-4f8a-8ce2-6e6a0e8fcf0e",
   "metadata": {},
   "outputs": [],
   "source": [
    "movies = soup.select(\"div.mc-info-container\")"
   ]
  },
  {
   "cell_type": "code",
   "execution_count": null,
   "id": "844d368f-09b5-4fa0-9a69-81178b03b623",
   "metadata": {},
   "outputs": [],
   "source": [
    "tag_rating = soup.select(\"li.data div.avg-rating\")"
   ]
  },
  {
   "cell_type": "code",
   "execution_count": 122,
   "id": "0cd453c4-d2f2-444c-a88b-b4b47e44d76d",
   "metadata": {},
   "outputs": [
    {
     "data": {
      "text/plain": [
       "'https://pics.filmaffinity.com/the_godfather-488102675-msmall.jpg'"
      ]
     },
     "execution_count": 122,
     "metadata": {},
     "output_type": "execute_result"
    }
   ],
   "source": [
    "tag_poster = soup.select(\"div.mc-poster img\")\n",
    "tag_poster[0][\"src\"]"
   ]
  },
  {
   "cell_type": "code",
   "execution_count": 113,
   "id": "98c3e6e7-c71f-4961-9e16-3efc41a620bc",
   "metadata": {},
   "outputs": [],
   "source": [
    "# movies[0]"
   ]
  },
  {
   "cell_type": "markdown",
   "id": "80a0f9bf-a53c-42f7-988a-89fee2110dab",
   "metadata": {},
   "source": [
    "---\n",
    "---\n",
    "---"
   ]
  },
  {
   "cell_type": "code",
   "execution_count": 125,
   "id": "19e8a82e-4851-47c1-b7da-e3fae5f93b81",
   "metadata": {},
   "outputs": [],
   "source": [
    "ranking = [i for i in range(1,271)]\n",
    "name = [m.get_text().split(\"\\n\")[1][:-11] for m in movies]\n",
    "year = [m.get_text().split(\"\\n\")[1][-8:-4] for m in movies]\n",
    "director = [m.get_text().split(\"\\n\")[2] for m in movies]\n",
    "cast = [m.get_text().split(\"\\n\")[3] for m in movies]\n",
    "country = [m.select(\"img\")[0][\"alt\"] for m in movies]\n",
    "rating = [float(r.get_text().replace(\",\",\".\")) for r in tag_rating]\n",
    "poster = [t[\"src\"] for t in tag_poster]\n",
    "\n",
    "fa = {\"ranking\": ranking,\n",
    "      \"name\": name,\n",
    "      \"year\": year,\n",
    "      \"country\": country,\n",
    "      \"director\": director,\n",
    "      \"cast\": cast,\n",
    "      \"rating\":rating,\n",
    "      \"poster\":poster}"
   ]
  },
  {
   "cell_type": "code",
   "execution_count": 126,
   "id": "843aec93-d45d-48f6-b6e1-e8476d4a5940",
   "metadata": {},
   "outputs": [
    {
     "data": {
      "text/html": [
       "<div>\n",
       "<style scoped>\n",
       "    .dataframe tbody tr th:only-of-type {\n",
       "        vertical-align: middle;\n",
       "    }\n",
       "\n",
       "    .dataframe tbody tr th {\n",
       "        vertical-align: top;\n",
       "    }\n",
       "\n",
       "    .dataframe thead th {\n",
       "        text-align: right;\n",
       "    }\n",
       "</style>\n",
       "<table border=\"1\" class=\"dataframe\">\n",
       "  <thead>\n",
       "    <tr style=\"text-align: right;\">\n",
       "      <th></th>\n",
       "      <th>ranking</th>\n",
       "      <th>name</th>\n",
       "      <th>year</th>\n",
       "      <th>country</th>\n",
       "      <th>director</th>\n",
       "      <th>cast</th>\n",
       "      <th>rating</th>\n",
       "      <th>poster</th>\n",
       "    </tr>\n",
       "  </thead>\n",
       "  <tbody>\n",
       "    <tr>\n",
       "      <th>0</th>\n",
       "      <td>1</td>\n",
       "      <td>El padrino</td>\n",
       "      <td>1972</td>\n",
       "      <td>Estados Unidos</td>\n",
       "      <td>Francis Ford Coppola</td>\n",
       "      <td>Marlon Brando, Al Pacino, James Caan, Robert D...</td>\n",
       "      <td>9.0</td>\n",
       "      <td>https://pics.filmaffinity.com/the_godfather-48...</td>\n",
       "    </tr>\n",
       "    <tr>\n",
       "      <th>1</th>\n",
       "      <td>2</td>\n",
       "      <td>El padrino. Parte II</td>\n",
       "      <td>1974</td>\n",
       "      <td>Estados Unidos</td>\n",
       "      <td>Francis Ford Coppola</td>\n",
       "      <td>Al Pacino, Robert De Niro, Diane Keaton, Rober...</td>\n",
       "      <td>8.9</td>\n",
       "      <td>https://pics.filmaffinity.com/the_godfather_pa...</td>\n",
       "    </tr>\n",
       "    <tr>\n",
       "      <th>2</th>\n",
       "      <td>3</td>\n",
       "      <td>Doce hombres sin piedad</td>\n",
       "      <td>1957</td>\n",
       "      <td>Estados Unidos</td>\n",
       "      <td>Sidney Lumet</td>\n",
       "      <td>Henry Fonda, Lee J. Cobb, Jack Warden, E.G. Ma...</td>\n",
       "      <td>8.7</td>\n",
       "      <td>https://pics.filmaffinity.com/12_angry_men-122...</td>\n",
       "    </tr>\n",
       "    <tr>\n",
       "      <th>3</th>\n",
       "      <td>4</td>\n",
       "      <td>La lista de Schindler</td>\n",
       "      <td>1993</td>\n",
       "      <td>Estados Unidos</td>\n",
       "      <td>Steven Spielberg</td>\n",
       "      <td>Liam Neeson, Ben Kingsley, Ralph Fiennes, Caro...</td>\n",
       "      <td>8.6</td>\n",
       "      <td>https://pics.filmaffinity.com/schindler_s_list...</td>\n",
       "    </tr>\n",
       "    <tr>\n",
       "      <th>4</th>\n",
       "      <td>5</td>\n",
       "      <td>Testigo de cargo</td>\n",
       "      <td>1957</td>\n",
       "      <td>Estados Unidos</td>\n",
       "      <td>Billy Wilder</td>\n",
       "      <td>Tyrone Power, Marlene Dietrich, Charles Laught...</td>\n",
       "      <td>8.6</td>\n",
       "      <td>https://pics.filmaffinity.com/witness_for_the_...</td>\n",
       "    </tr>\n",
       "    <tr>\n",
       "      <th>...</th>\n",
       "      <td>...</td>\n",
       "      <td>...</td>\n",
       "      <td>...</td>\n",
       "      <td>...</td>\n",
       "      <td>...</td>\n",
       "      <td>...</td>\n",
       "      <td>...</td>\n",
       "      <td>...</td>\n",
       "    </tr>\n",
       "    <tr>\n",
       "      <th>265</th>\n",
       "      <td>266</td>\n",
       "      <td>Big Fish</td>\n",
       "      <td>2003</td>\n",
       "      <td>Estados Unidos</td>\n",
       "      <td>Tim Burton</td>\n",
       "      <td>Ewan McGregor, Albert Finney, Billy Crudup, Je...</td>\n",
       "      <td>7.9</td>\n",
       "      <td>https://pics.filmaffinity.com/big_fish-8382872...</td>\n",
       "    </tr>\n",
       "    <tr>\n",
       "      <th>266</th>\n",
       "      <td>267</td>\n",
       "      <td>Snatch. Cerdos y diamantes</td>\n",
       "      <td>2000</td>\n",
       "      <td>Reino Unido</td>\n",
       "      <td>Guy Ritchie</td>\n",
       "      <td>Jason Statham, Stephen Graham, Brad Pitt, Alan...</td>\n",
       "      <td>7.9</td>\n",
       "      <td>https://pics.filmaffinity.com/snatch-921179475...</td>\n",
       "    </tr>\n",
       "    <tr>\n",
       "      <th>267</th>\n",
       "      <td>268</td>\n",
       "      <td>Up</td>\n",
       "      <td>2009</td>\n",
       "      <td>Estados Unidos</td>\n",
       "      <td>Pete Docter, Bob Peterson</td>\n",
       "      <td>Animación</td>\n",
       "      <td>7.9</td>\n",
       "      <td>https://pics.filmaffinity.com/up-672315222-msm...</td>\n",
       "    </tr>\n",
       "    <tr>\n",
       "      <th>268</th>\n",
       "      <td>269</td>\n",
       "      <td>American Beauty</td>\n",
       "      <td>1999</td>\n",
       "      <td>Estados Unidos</td>\n",
       "      <td>Sam Mendes</td>\n",
       "      <td>Kevin Spacey, Annette Bening, Thora Birch, All...</td>\n",
       "      <td>7.9</td>\n",
       "      <td>https://pics.filmaffinity.com/american_beauty-...</td>\n",
       "    </tr>\n",
       "    <tr>\n",
       "      <th>269</th>\n",
       "      <td>270</td>\n",
       "      <td>¡Vivir!</td>\n",
       "      <td>1994</td>\n",
       "      <td>China</td>\n",
       "      <td>Zhang Yimou</td>\n",
       "      <td>Gong Li, Ge You, Jiang Wu, Niu Ben, Guo Tao, N...</td>\n",
       "      <td>7.9</td>\n",
       "      <td>https://pics.filmaffinity.com/huo_zhe-90456171...</td>\n",
       "    </tr>\n",
       "  </tbody>\n",
       "</table>\n",
       "<p>270 rows × 8 columns</p>\n",
       "</div>"
      ],
      "text/plain": [
       "     ranking                        name  year         country  \\\n",
       "0          1                  El padrino  1972  Estados Unidos   \n",
       "1          2        El padrino. Parte II  1974  Estados Unidos   \n",
       "2          3     Doce hombres sin piedad  1957  Estados Unidos   \n",
       "3          4       La lista de Schindler  1993  Estados Unidos   \n",
       "4          5            Testigo de cargo  1957  Estados Unidos   \n",
       "..       ...                         ...   ...             ...   \n",
       "265      266                    Big Fish  2003  Estados Unidos   \n",
       "266      267  Snatch. Cerdos y diamantes  2000     Reino Unido   \n",
       "267      268                          Up  2009  Estados Unidos   \n",
       "268      269             American Beauty  1999  Estados Unidos   \n",
       "269      270                     ¡Vivir!  1994           China   \n",
       "\n",
       "                      director  \\\n",
       "0         Francis Ford Coppola   \n",
       "1         Francis Ford Coppola   \n",
       "2                 Sidney Lumet   \n",
       "3             Steven Spielberg   \n",
       "4                 Billy Wilder   \n",
       "..                         ...   \n",
       "265                 Tim Burton   \n",
       "266                Guy Ritchie   \n",
       "267  Pete Docter, Bob Peterson   \n",
       "268                 Sam Mendes   \n",
       "269                Zhang Yimou   \n",
       "\n",
       "                                                  cast  rating  \\\n",
       "0    Marlon Brando, Al Pacino, James Caan, Robert D...     9.0   \n",
       "1    Al Pacino, Robert De Niro, Diane Keaton, Rober...     8.9   \n",
       "2    Henry Fonda, Lee J. Cobb, Jack Warden, E.G. Ma...     8.7   \n",
       "3    Liam Neeson, Ben Kingsley, Ralph Fiennes, Caro...     8.6   \n",
       "4    Tyrone Power, Marlene Dietrich, Charles Laught...     8.6   \n",
       "..                                                 ...     ...   \n",
       "265  Ewan McGregor, Albert Finney, Billy Crudup, Je...     7.9   \n",
       "266  Jason Statham, Stephen Graham, Brad Pitt, Alan...     7.9   \n",
       "267                                          Animación     7.9   \n",
       "268  Kevin Spacey, Annette Bening, Thora Birch, All...     7.9   \n",
       "269  Gong Li, Ge You, Jiang Wu, Niu Ben, Guo Tao, N...     7.9   \n",
       "\n",
       "                                                poster  \n",
       "0    https://pics.filmaffinity.com/the_godfather-48...  \n",
       "1    https://pics.filmaffinity.com/the_godfather_pa...  \n",
       "2    https://pics.filmaffinity.com/12_angry_men-122...  \n",
       "3    https://pics.filmaffinity.com/schindler_s_list...  \n",
       "4    https://pics.filmaffinity.com/witness_for_the_...  \n",
       "..                                                 ...  \n",
       "265  https://pics.filmaffinity.com/big_fish-8382872...  \n",
       "266  https://pics.filmaffinity.com/snatch-921179475...  \n",
       "267  https://pics.filmaffinity.com/up-672315222-msm...  \n",
       "268  https://pics.filmaffinity.com/american_beauty-...  \n",
       "269  https://pics.filmaffinity.com/huo_zhe-90456171...  \n",
       "\n",
       "[270 rows x 8 columns]"
      ]
     },
     "execution_count": 126,
     "metadata": {},
     "output_type": "execute_result"
    }
   ],
   "source": [
    "df_fa = pd.DataFrame(fa)\n",
    "df_fa"
   ]
  },
  {
   "cell_type": "markdown",
   "id": "c8034ee2-0052-4a5e-8301-1ecbebdd53bf",
   "metadata": {},
   "source": [
    "---\n",
    "---\n",
    "---"
   ]
  },
  {
   "cell_type": "code",
   "execution_count": 48,
   "id": "d0a30af3-9bd9-4e7a-96f9-2b0b736389d9",
   "metadata": {},
   "outputs": [
    {
     "data": {
      "text/plain": [
       "['',\n",
       " 'El padrino  (1972)   ',\n",
       " 'Francis Ford Coppola',\n",
       " 'Marlon Brando, Al Pacino, James Caan, Robert Duvall, Diane Keaton, John Cazale, Talia Shire, Richard S. Castellano ...',\n",
       " '']"
      ]
     },
     "execution_count": 48,
     "metadata": {},
     "output_type": "execute_result"
    }
   ],
   "source": [
    "movies[0].get_text().split(\"\\n\")"
   ]
  },
  {
   "cell_type": "code",
   "execution_count": 74,
   "id": "eddf0eb5-deb3-4eac-8dae-115dbf3b86ba",
   "metadata": {},
   "outputs": [
    {
     "data": {
      "text/plain": [
       "'1972'"
      ]
     },
     "execution_count": 74,
     "metadata": {},
     "output_type": "execute_result"
    }
   ],
   "source": [
    "year = movies[0].get_text().split(\"\\n\")[1][-8:-4]\n",
    "year"
   ]
  },
  {
   "cell_type": "code",
   "execution_count": null,
   "id": "918f049b-85d3-4099-b630-2f4f53076109",
   "metadata": {},
   "outputs": [],
   "source": []
  },
  {
   "cell_type": "code",
   "execution_count": 78,
   "id": "249b3026-c166-4851-a882-b1df990b8f51",
   "metadata": {},
   "outputs": [
    {
     "data": {
      "text/plain": [
       "'Francis Ford Coppola'"
      ]
     },
     "execution_count": 78,
     "metadata": {},
     "output_type": "execute_result"
    }
   ],
   "source": [
    "director = movies[0].get_text().split(\"\\n\")[2]\n",
    "director"
   ]
  },
  {
   "cell_type": "code",
   "execution_count": 83,
   "id": "fd5ce824-4018-46d0-a908-36717f37fd33",
   "metadata": {},
   "outputs": [
    {
     "data": {
      "text/plain": [
       "'Marlon Brando, Al Pacino, James Caan, Robert Duvall, Diane Keaton, John Cazale, Talia Shire, Richard S. Castellano ...'"
      ]
     },
     "execution_count": 83,
     "metadata": {},
     "output_type": "execute_result"
    }
   ],
   "source": [
    "cast = movies[0].get_text().split(\"\\n\")[3]\n",
    "cast"
   ]
  },
  {
   "cell_type": "markdown",
   "id": "1e0ebc42-1900-4fea-b90b-bb0143151335",
   "metadata": {},
   "source": [
    "---\n",
    "---\n",
    "---"
   ]
  },
  {
   "cell_type": "code",
   "execution_count": 96,
   "id": "96020757-c4cb-4b3d-9ff6-bee8d1c03b34",
   "metadata": {},
   "outputs": [
    {
     "data": {
      "text/plain": [
       "'Estados Unidos'"
      ]
     },
     "execution_count": 96,
     "metadata": {},
     "output_type": "execute_result"
    }
   ],
   "source": [
    "movies[0].select(\"img\")[0][\"alt\"]"
   ]
  },
  {
   "cell_type": "code",
   "execution_count": 108,
   "id": "84c91f84-cc73-4dca-87cb-5d2e95e380fb",
   "metadata": {},
   "outputs": [
    {
     "data": {
      "text/plain": [
       "9.0"
      ]
     },
     "execution_count": 108,
     "metadata": {},
     "output_type": "execute_result"
    }
   ],
   "source": [
    "tag_rating = soup.select(\"li.data div.avg-rating\")\n",
    "float(tag_rating[0].get_text().replace(\",\",\".\"))"
   ]
  },
  {
   "cell_type": "code",
   "execution_count": null,
   "id": "8c4f5ac5-f2a0-4088-9246-92fd9851e8f5",
   "metadata": {},
   "outputs": [],
   "source": []
  },
  {
   "cell_type": "code",
   "execution_count": null,
   "id": "0c22e446-be55-44ae-88df-3d0b63e89c9f",
   "metadata": {},
   "outputs": [],
   "source": []
  },
  {
   "cell_type": "code",
   "execution_count": null,
   "id": "4f63d97b-7a31-40f7-a8f7-ef86bcdaa1e4",
   "metadata": {},
   "outputs": [],
   "source": []
  },
  {
   "cell_type": "code",
   "execution_count": 22,
   "id": "f06eb822-257f-4621-b6c9-80f216ab0e4d",
   "metadata": {},
   "outputs": [
    {
     "data": {
      "text/plain": [
       "9.0"
      ]
     },
     "execution_count": 22,
     "metadata": {},
     "output_type": "execute_result"
    }
   ],
   "source": [
    "float(soup.select(\"div.avg-rating\")[0].get_text().replace(\",\",\".\"))"
   ]
  },
  {
   "cell_type": "code",
   "execution_count": 14,
   "id": "ad90299e-ed26-45b5-a285-45b313f9b5e2",
   "metadata": {},
   "outputs": [
    {
     "data": {
      "text/plain": [
       "'https://pics.filmaffinity.com/city_lights-825971402-msmall.jpg'"
      ]
     },
     "execution_count": 14,
     "metadata": {},
     "output_type": "execute_result"
    }
   ],
   "source": [
    "soup.select(\"div.mc-poster img\")[5][\"src\"]"
   ]
  },
  {
   "cell_type": "code",
   "execution_count": 85,
   "id": "1501058a-a6c0-42e8-a9a3-d5374a70fc7d",
   "metadata": {},
   "outputs": [
    {
     "data": {
      "text/plain": [
       "'El padrino(1972)'"
      ]
     },
     "execution_count": 85,
     "metadata": {},
     "output_type": "execute_result"
    }
   ],
   "source": [
    "soup.select(\"div.mc-title\")[0].get_text(strip = True)"
   ]
  }
 ],
 "metadata": {
  "kernelspec": {
   "display_name": "Python 3 (ipykernel)",
   "language": "python",
   "name": "python3"
  },
  "language_info": {
   "codemirror_mode": {
    "name": "ipython",
    "version": 3
   },
   "file_extension": ".py",
   "mimetype": "text/x-python",
   "name": "python",
   "nbconvert_exporter": "python",
   "pygments_lexer": "ipython3",
   "version": "3.9.7"
  }
 },
 "nbformat": 4,
 "nbformat_minor": 5
}
